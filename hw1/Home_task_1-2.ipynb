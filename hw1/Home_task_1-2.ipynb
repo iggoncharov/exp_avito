{
 "cells": [
  {
   "cell_type": "code",
   "execution_count": 1,
   "metadata": {
    "ExecuteTime": {
     "end_time": "2022-03-17T08:40:09.626613Z",
     "start_time": "2022-03-17T08:39:52.400292Z"
    }
   },
   "outputs": [],
   "source": [
    "import pandas as pd\n",
    "import matplotlib.pyplot as plt\n",
    "import numpy as np\n",
    "import seaborn as sns\n",
    "import datetime\n",
    "import random\n",
    "from statsmodels.stats.power import tt_ind_solve_power\n",
    "\n",
    "def date_converter(x):\n",
    "    return datetime.datetime.strptime(x,'%Y-%m-%d')"
   ]
  },
  {
   "cell_type": "markdown",
   "metadata": {},
   "source": [
    "Срок выполнения задания: 17 марта 17:00.\n",
    "\n",
    "\n",
    "### Задание\n",
    "Вам предстоит разработать дизайн эксперимента по тестированию монетизационных продуктов.\n",
    "В конечном счёте, в монтизационных продуктах нас всегда интересует увеличение выручки, \n",
    "но к сожалению не всегда мы можем зафиксировать изменение именно этой метрики.\n",
    "\n",
    "#### Кейс\n",
    "Вы аналитик в продуктовой дискавери команде.\n",
    "На текущий момент приближается начало нового квартала и вам необходимо спланировать\n",
    "эксперименты в нём.\n",
    "\n",
    "У вас есть два продукта:\n",
    "- один базовый продукт, который предоставляет минимальный набор услуг на вашем ресурсе;\n",
    "- один продвинутый продукт, который предоставляет расширенный набор услуг.\n",
    "\n",
    "На текущий момент на квартал у вашей команды есть для проверки две гипотезы:\n",
    "- Дополнительное информирование об эффективности услуг будет стимулировать их покупку;\n",
    "- Повышение цены базового продукта должно стимулировать покупку продвинутого продукта\n"
   ]
  },
  {
   "cell_type": "markdown",
   "metadata": {},
   "source": [
    "#### Для планирования эксперимента изучите данные и метрики (2 балла):\n",
    "\n",
    "- Загрузите файл и изучите данные;\n",
    "- Подумайте над тем, какие метрики можно выделить на основе этих данных: выручка, пользователи, транзакции, средний чек и т.д.\n",
    "- Постройте графики плотности распределения для этих метрик и сделайте выводы о характере распределений: тип, наличие выбросов, насколько сильный разброс;\n",
    "- Изучите основные статистики этих метрик: среднее, стандартное отклонение;\n",
    "- Изучите то, насколько эти статистики подвержены сезональности.\n",
    "\n",
    "\n",
    "#### Формализуйте гипотезы (4 балла):\n",
    "\n",
    "- Опишите метрики и статистики, изменение которых вы ожидаете;\n",
    "- Предположите какое относительное изменение этих статистик в процентах вы ожидаете.\n",
    "\n",
    "#### Предскажите минимально детектируемый эффект для своих метрик и спланируйте эксперименты внутри квартала (4 балла):\n",
    "\n",
    "- Принимая в расчёт максимально возможные размеры групп и ограничения по длительности в квартал рассмотрите разные планы проведения тестов и предскажите их чувствительность;\n",
    "- Определите наиболее оптимальный план экспериментов. Обоснуйте, почему вы его считаете оптимальным.\n",
    "\n",
    "\n",
    "#### * Оптимизация плана (2 балла):\n",
    "Предложите варианты ускорения экспериментов — всегда могут образоваться ситуации, когда ваши гипотезы не подтвердились и они требуют изменения или уточнения и необходимости повторных тестов. Цели достигать всегда хорошо в рамках отведённого на них срока. Какие параметры экспериментов вы поменяете? К каким последствиям могут привести такие изменения?"
   ]
  },
  {
   "cell_type": "markdown",
   "metadata": {},
   "source": [
    "#### Описание данныx\n",
    "\n",
    "event_date - дата \n",
    "\n",
    "user_id - идентификатор пользователя\n",
    "\n",
    "product - тип продукта\n",
    "\n",
    "amount - сумма покупок\n",
    "\n",
    "transactions - количество транзакций\n"
   ]
  },
  {
   "cell_type": "code",
   "execution_count": 413,
   "metadata": {
    "ExecuteTime": {
     "end_time": "2022-03-17T13:44:31.795679Z",
     "start_time": "2022-03-17T13:44:07.439665Z"
    }
   },
   "outputs": [],
   "source": [
    "df = pd.read_csv('user_transactions.csv')\n",
    "df['event_date']=df.event_date.apply(date_converter)"
   ]
  },
  {
   "cell_type": "markdown",
   "metadata": {},
   "source": [
    "**1.2**"
   ]
  },
  {
   "cell_type": "code",
   "execution_count": 414,
   "metadata": {
    "ExecuteTime": {
     "end_time": "2022-03-17T13:44:48.781191Z",
     "start_time": "2022-03-17T13:44:48.760189Z"
    }
   },
   "outputs": [
    {
     "data": {
      "text/html": [
       "<div>\n",
       "<style scoped>\n",
       "    .dataframe tbody tr th:only-of-type {\n",
       "        vertical-align: middle;\n",
       "    }\n",
       "\n",
       "    .dataframe tbody tr th {\n",
       "        vertical-align: top;\n",
       "    }\n",
       "\n",
       "    .dataframe thead th {\n",
       "        text-align: right;\n",
       "    }\n",
       "</style>\n",
       "<table border=\"1\" class=\"dataframe\">\n",
       "  <thead>\n",
       "    <tr style=\"text-align: right;\">\n",
       "      <th></th>\n",
       "      <th>event_date</th>\n",
       "      <th>user_id</th>\n",
       "      <th>product</th>\n",
       "      <th>amount</th>\n",
       "      <th>transactions</th>\n",
       "    </tr>\n",
       "  </thead>\n",
       "  <tbody>\n",
       "    <tr>\n",
       "      <th>0</th>\n",
       "      <td>2020-09-29</td>\n",
       "      <td>40746820883461494</td>\n",
       "      <td>basic</td>\n",
       "      <td>95.0</td>\n",
       "      <td>1</td>\n",
       "    </tr>\n",
       "    <tr>\n",
       "      <th>1</th>\n",
       "      <td>2020-09-29</td>\n",
       "      <td>41102328408008828</td>\n",
       "      <td>advanced</td>\n",
       "      <td>279.0</td>\n",
       "      <td>1</td>\n",
       "    </tr>\n",
       "    <tr>\n",
       "      <th>2</th>\n",
       "      <td>2020-09-29</td>\n",
       "      <td>63464894315144075</td>\n",
       "      <td>basic</td>\n",
       "      <td>64.0</td>\n",
       "      <td>1</td>\n",
       "    </tr>\n",
       "    <tr>\n",
       "      <th>3</th>\n",
       "      <td>2020-09-29</td>\n",
       "      <td>111526991873455341</td>\n",
       "      <td>basic</td>\n",
       "      <td>399.0</td>\n",
       "      <td>1</td>\n",
       "    </tr>\n",
       "    <tr>\n",
       "      <th>4</th>\n",
       "      <td>2020-09-29</td>\n",
       "      <td>169522572963414231</td>\n",
       "      <td>basic</td>\n",
       "      <td>199.0</td>\n",
       "      <td>1</td>\n",
       "    </tr>\n",
       "  </tbody>\n",
       "</table>\n",
       "</div>"
      ],
      "text/plain": [
       "  event_date             user_id   product  amount  transactions\n",
       "0 2020-09-29   40746820883461494     basic    95.0             1\n",
       "1 2020-09-29   41102328408008828  advanced   279.0             1\n",
       "2 2020-09-29   63464894315144075     basic    64.0             1\n",
       "3 2020-09-29  111526991873455341     basic   399.0             1\n",
       "4 2020-09-29  169522572963414231     basic   199.0             1"
      ]
     },
     "execution_count": 414,
     "metadata": {},
     "output_type": "execute_result"
    }
   ],
   "source": [
    "df.head()"
   ]
  },
  {
   "cell_type": "markdown",
   "metadata": {},
   "source": [
    "По первой гипотезе **Дополнительное информирование об эффективности услуг будет стимулировать их покупку**  \n",
    "Можно следить за средним числом транзакций на человека, если наша гипотеза верна мы должны зафикисировать увеличение кол-ва транзакций"
   ]
  },
  {
   "cell_type": "code",
   "execution_count": 415,
   "metadata": {
    "ExecuteTime": {
     "end_time": "2022-03-17T13:44:53.175183Z",
     "start_time": "2022-03-17T13:44:53.007185Z"
    }
   },
   "outputs": [
    {
     "data": {
      "text/plain": [
       "transactions    2.709829\n",
       "dtype: float64"
      ]
     },
     "execution_count": 415,
     "metadata": {},
     "output_type": "execute_result"
    }
   ],
   "source": [
    "df[df.event_date <= '2020-10-29'].groupby('user_id')[['transactions']].sum().sort_values('transactions').mean()"
   ]
  },
  {
   "cell_type": "code",
   "execution_count": 416,
   "metadata": {
    "ExecuteTime": {
     "end_time": "2022-03-17T13:45:09.772456Z",
     "start_time": "2022-03-17T13:45:09.375456Z"
    }
   },
   "outputs": [],
   "source": [
    "t1 = df.groupby('user_id')[['transactions']].sum().sort_values('transactions')"
   ]
  },
  {
   "cell_type": "code",
   "execution_count": 417,
   "metadata": {
    "ExecuteTime": {
     "end_time": "2022-03-17T13:45:09.930816Z",
     "start_time": "2022-03-17T13:45:09.919457Z"
    }
   },
   "outputs": [
    {
     "data": {
      "text/plain": [
       "(transactions    3.696954\n",
       " dtype: float64,\n",
       " transactions    16.522523\n",
       " dtype: float64)"
      ]
     },
     "execution_count": 417,
     "metadata": {},
     "output_type": "execute_result"
    }
   ],
   "source": [
    "t1.mean(), t1.std()"
   ]
  },
  {
   "cell_type": "code",
   "execution_count": 418,
   "metadata": {
    "ExecuteTime": {
     "end_time": "2022-03-17T13:45:11.255965Z",
     "start_time": "2022-03-17T13:45:11.238970Z"
    }
   },
   "outputs": [
    {
     "data": {
      "text/html": [
       "<div>\n",
       "<style scoped>\n",
       "    .dataframe tbody tr th:only-of-type {\n",
       "        vertical-align: middle;\n",
       "    }\n",
       "\n",
       "    .dataframe tbody tr th {\n",
       "        vertical-align: top;\n",
       "    }\n",
       "\n",
       "    .dataframe thead th {\n",
       "        text-align: right;\n",
       "    }\n",
       "</style>\n",
       "<table border=\"1\" class=\"dataframe\">\n",
       "  <thead>\n",
       "    <tr style=\"text-align: right;\">\n",
       "      <th></th>\n",
       "      <th>transactions</th>\n",
       "    </tr>\n",
       "    <tr>\n",
       "      <th>user_id</th>\n",
       "      <th></th>\n",
       "    </tr>\n",
       "  </thead>\n",
       "  <tbody>\n",
       "    <tr>\n",
       "      <th>1809139296429</th>\n",
       "      <td>1</td>\n",
       "    </tr>\n",
       "    <tr>\n",
       "      <th>5344331396494370992</th>\n",
       "      <td>1</td>\n",
       "    </tr>\n",
       "    <tr>\n",
       "      <th>5344326684694287712</th>\n",
       "      <td>1</td>\n",
       "    </tr>\n",
       "    <tr>\n",
       "      <th>5344194258139191888</th>\n",
       "      <td>1</td>\n",
       "    </tr>\n",
       "    <tr>\n",
       "      <th>5344111954550540771</th>\n",
       "      <td>1</td>\n",
       "    </tr>\n",
       "    <tr>\n",
       "      <th>...</th>\n",
       "      <td>...</td>\n",
       "    </tr>\n",
       "    <tr>\n",
       "      <th>3966550629130324075</th>\n",
       "      <td>1660</td>\n",
       "    </tr>\n",
       "    <tr>\n",
       "      <th>6742339174893016914</th>\n",
       "      <td>1842</td>\n",
       "    </tr>\n",
       "    <tr>\n",
       "      <th>4687659281811086218</th>\n",
       "      <td>1919</td>\n",
       "    </tr>\n",
       "    <tr>\n",
       "      <th>8052783454114644234</th>\n",
       "      <td>2646</td>\n",
       "    </tr>\n",
       "    <tr>\n",
       "      <th>4945411687148162386</th>\n",
       "      <td>3070</td>\n",
       "    </tr>\n",
       "  </tbody>\n",
       "</table>\n",
       "<p>446935 rows × 1 columns</p>\n",
       "</div>"
      ],
      "text/plain": [
       "                     transactions\n",
       "user_id                          \n",
       "1809139296429                   1\n",
       "5344331396494370992             1\n",
       "5344326684694287712             1\n",
       "5344194258139191888             1\n",
       "5344111954550540771             1\n",
       "...                           ...\n",
       "3966550629130324075          1660\n",
       "6742339174893016914          1842\n",
       "4687659281811086218          1919\n",
       "8052783454114644234          2646\n",
       "4945411687148162386          3070\n",
       "\n",
       "[446935 rows x 1 columns]"
      ]
     },
     "execution_count": 418,
     "metadata": {},
     "output_type": "execute_result"
    }
   ],
   "source": [
    "t1"
   ]
  },
  {
   "cell_type": "code",
   "execution_count": 419,
   "metadata": {
    "ExecuteTime": {
     "end_time": "2022-03-17T13:45:12.186968Z",
     "start_time": "2022-03-17T13:45:11.902968Z"
    }
   },
   "outputs": [
    {
     "data": {
      "text/plain": [
       "(array([264020.,  72267.,  31774.,  18017.,  11342.,   7972.,   5717.,\n",
       "          4375.,   3450.,   2894.,   2339.,   1981.,   1731.,   1466.,\n",
       "          1366.,   1145.,    996.,    903.,    822.,    731.,    638.,\n",
       "           618.,    579.,    545.,    414.,    467.,    387.,    368.,\n",
       "           674.]),\n",
       " array([ 1.,  2.,  3.,  4.,  5.,  6.,  7.,  8.,  9., 10., 11., 12., 13.,\n",
       "        14., 15., 16., 17., 18., 19., 20., 21., 22., 23., 24., 25., 26.,\n",
       "        27., 28., 29., 30.]),\n",
       " <BarContainer object of 29 artists>)"
      ]
     },
     "execution_count": 419,
     "metadata": {},
     "output_type": "execute_result"
    },
    {
     "data": {
      "image/png": "[encoded data removed]",
      "text/plain": [
       "<Figure size 864x504 with 1 Axes>"
      ]
     },
     "metadata": {
      "needs_background": "light"
     },
     "output_type": "display_data"
    }
   ],
   "source": [
    "fig, ax = plt.subplots(figsize = (12, 7))\n",
    "ax.hist(t1, bins = 29, # bins - целое число, оно определяет количество интервалов одинаковой ширины в диапазоне\n",
    "        zorder = 3, range = (1, 30), # Нижние и верхние выбросы игнорируются? если не указан, диапазон равен (x.min (), x.max ())\n",
    "        density = False,  # density = True - нормировка по оси y прощади на 1\n",
    "        alpha = 0.9,\n",
    "        bottom = 0.2, # смещение на 0.2 вверх\n",
    "        rwidth = 1, # толщина столбца rwidth\n",
    "        color = 'red', # цвет столбца\n",
    "        edgecolor = 'black', # цвет края\n",
    "        hatch = '//') # hatch - штриховка"
   ]
  },
  {
   "cell_type": "markdown",
   "metadata": {},
   "source": [
    "Для второй гипотезы **Повышение цены базового продукта должно стимулировать покупку продвинутого продукта**  \n",
    "Будем следить за средним числом транзакций типа **advanced** на человека "
   ]
  },
  {
   "cell_type": "code",
   "execution_count": 420,
   "metadata": {
    "ExecuteTime": {
     "end_time": "2022-03-17T13:45:12.946978Z",
     "start_time": "2022-03-17T13:45:12.806961Z"
    }
   },
   "outputs": [],
   "source": [
    "df_adv = df[df['product'] == 'advanced']"
   ]
  },
  {
   "cell_type": "code",
   "execution_count": 421,
   "metadata": {
    "ExecuteTime": {
     "end_time": "2022-03-17T13:45:13.296956Z",
     "start_time": "2022-03-17T13:45:13.077957Z"
    }
   },
   "outputs": [],
   "source": [
    "k = df[df['product'] == 'basic']"
   ]
  },
  {
   "cell_type": "code",
   "execution_count": 422,
   "metadata": {
    "ExecuteTime": {
     "end_time": "2022-03-17T13:45:13.598959Z",
     "start_time": "2022-03-17T13:45:13.585961Z"
    }
   },
   "outputs": [
    {
     "name": "stderr",
     "output_type": "stream",
     "text": [
      "C:\\Users\\rimbb\\AppData\\Local\\Temp/ipykernel_6896/2561725182.py:1: SettingWithCopyWarning: \n",
      "A value is trying to be set on a copy of a slice from a DataFrame.\n",
      "Try using .loc[row_indexer,col_indexer] = value instead\n",
      "\n",
      "See the caveats in the documentation: https://pandas.pydata.org/pandas-docs/stable/user_guide/indexing.html#returning-a-view-versus-a-copy\n",
      "  k['transactions'] = 0\n"
     ]
    }
   ],
   "source": [
    "k['transactions'] = 0"
   ]
  },
  {
   "cell_type": "code",
   "execution_count": 423,
   "metadata": {
    "ExecuteTime": {
     "end_time": "2022-03-17T13:45:13.772966Z",
     "start_time": "2022-03-17T13:45:13.745962Z"
    }
   },
   "outputs": [
    {
     "data": {
      "text/html": [
       "<div>\n",
       "<style scoped>\n",
       "    .dataframe tbody tr th:only-of-type {\n",
       "        vertical-align: middle;\n",
       "    }\n",
       "\n",
       "    .dataframe tbody tr th {\n",
       "        vertical-align: top;\n",
       "    }\n",
       "\n",
       "    .dataframe thead th {\n",
       "        text-align: right;\n",
       "    }\n",
       "</style>\n",
       "<table border=\"1\" class=\"dataframe\">\n",
       "  <thead>\n",
       "    <tr style=\"text-align: right;\">\n",
       "      <th></th>\n",
       "      <th>event_date</th>\n",
       "      <th>user_id</th>\n",
       "      <th>product</th>\n",
       "      <th>amount</th>\n",
       "      <th>transactions</th>\n",
       "    </tr>\n",
       "  </thead>\n",
       "  <tbody>\n",
       "    <tr>\n",
       "      <th>0</th>\n",
       "      <td>2020-09-29</td>\n",
       "      <td>40746820883461494</td>\n",
       "      <td>basic</td>\n",
       "      <td>95.0</td>\n",
       "      <td>0</td>\n",
       "    </tr>\n",
       "    <tr>\n",
       "      <th>2</th>\n",
       "      <td>2020-09-29</td>\n",
       "      <td>63464894315144075</td>\n",
       "      <td>basic</td>\n",
       "      <td>64.0</td>\n",
       "      <td>0</td>\n",
       "    </tr>\n",
       "    <tr>\n",
       "      <th>3</th>\n",
       "      <td>2020-09-29</td>\n",
       "      <td>111526991873455341</td>\n",
       "      <td>basic</td>\n",
       "      <td>399.0</td>\n",
       "      <td>0</td>\n",
       "    </tr>\n",
       "  </tbody>\n",
       "</table>\n",
       "</div>"
      ],
      "text/plain": [
       "  event_date             user_id product  amount  transactions\n",
       "0 2020-09-29   40746820883461494   basic    95.0             0\n",
       "2 2020-09-29   63464894315144075   basic    64.0             0\n",
       "3 2020-09-29  111526991873455341   basic   399.0             0"
      ]
     },
     "execution_count": 423,
     "metadata": {},
     "output_type": "execute_result"
    }
   ],
   "source": [
    "k.head(3)"
   ]
  },
  {
   "cell_type": "code",
   "execution_count": 424,
   "metadata": {
    "ExecuteTime": {
     "end_time": "2022-03-17T13:45:14.010956Z",
     "start_time": "2022-03-17T13:45:13.940961Z"
    }
   },
   "outputs": [],
   "source": [
    "df_adv = pd.concat([df_adv, k])"
   ]
  },
  {
   "cell_type": "code",
   "execution_count": 425,
   "metadata": {
    "ExecuteTime": {
     "end_time": "2022-03-17T13:45:14.581958Z",
     "start_time": "2022-03-17T13:45:14.162960Z"
    }
   },
   "outputs": [],
   "source": [
    "t2 = df_adv.groupby('user_id')[['transactions']].sum()"
   ]
  },
  {
   "cell_type": "code",
   "execution_count": 426,
   "metadata": {
    "ExecuteTime": {
     "end_time": "2022-03-17T13:45:14.772956Z",
     "start_time": "2022-03-17T13:45:14.728957Z"
    }
   },
   "outputs": [
    {
     "data": {
      "text/html": [
       "<div>\n",
       "<style scoped>\n",
       "    .dataframe tbody tr th:only-of-type {\n",
       "        vertical-align: middle;\n",
       "    }\n",
       "\n",
       "    .dataframe tbody tr th {\n",
       "        vertical-align: top;\n",
       "    }\n",
       "\n",
       "    .dataframe thead th {\n",
       "        text-align: right;\n",
       "    }\n",
       "</style>\n",
       "<table border=\"1\" class=\"dataframe\">\n",
       "  <thead>\n",
       "    <tr style=\"text-align: right;\">\n",
       "      <th></th>\n",
       "      <th>transactions</th>\n",
       "    </tr>\n",
       "    <tr>\n",
       "      <th>user_id</th>\n",
       "      <th></th>\n",
       "    </tr>\n",
       "  </thead>\n",
       "  <tbody>\n",
       "    <tr>\n",
       "      <th>3568088068926032400</th>\n",
       "      <td>0</td>\n",
       "    </tr>\n",
       "    <tr>\n",
       "      <th>4694856454543314309</th>\n",
       "      <td>0</td>\n",
       "    </tr>\n",
       "    <tr>\n",
       "      <th>7860694008857519131</th>\n",
       "      <td>0</td>\n",
       "    </tr>\n",
       "    <tr>\n",
       "      <th>7860702471578515343</th>\n",
       "      <td>0</td>\n",
       "    </tr>\n",
       "    <tr>\n",
       "      <th>4694811811441249291</th>\n",
       "      <td>0</td>\n",
       "    </tr>\n",
       "    <tr>\n",
       "      <th>...</th>\n",
       "      <td>...</td>\n",
       "    </tr>\n",
       "    <tr>\n",
       "      <th>5514140398139570480</th>\n",
       "      <td>942</td>\n",
       "    </tr>\n",
       "    <tr>\n",
       "      <th>1103911032967574635</th>\n",
       "      <td>1011</td>\n",
       "    </tr>\n",
       "    <tr>\n",
       "      <th>5775752295582531623</th>\n",
       "      <td>1050</td>\n",
       "    </tr>\n",
       "    <tr>\n",
       "      <th>8765232684312130973</th>\n",
       "      <td>1130</td>\n",
       "    </tr>\n",
       "    <tr>\n",
       "      <th>6369882054774926898</th>\n",
       "      <td>1248</td>\n",
       "    </tr>\n",
       "  </tbody>\n",
       "</table>\n",
       "<p>446935 rows × 1 columns</p>\n",
       "</div>"
      ],
      "text/plain": [
       "                     transactions\n",
       "user_id                          \n",
       "3568088068926032400             0\n",
       "4694856454543314309             0\n",
       "7860694008857519131             0\n",
       "7860702471578515343             0\n",
       "4694811811441249291             0\n",
       "...                           ...\n",
       "5514140398139570480           942\n",
       "1103911032967574635          1011\n",
       "5775752295582531623          1050\n",
       "8765232684312130973          1130\n",
       "6369882054774926898          1248\n",
       "\n",
       "[446935 rows x 1 columns]"
      ]
     },
     "execution_count": 426,
     "metadata": {},
     "output_type": "execute_result"
    }
   ],
   "source": [
    "t2.sort_values('transactions')"
   ]
  },
  {
   "cell_type": "code",
   "execution_count": 427,
   "metadata": {
    "ExecuteTime": {
     "end_time": "2022-03-17T13:45:14.946954Z",
     "start_time": "2022-03-17T13:45:14.933956Z"
    }
   },
   "outputs": [
    {
     "data": {
      "text/plain": [
       "transactions    0.823084\n",
       "dtype: float64"
      ]
     },
     "execution_count": 427,
     "metadata": {},
     "output_type": "execute_result"
    }
   ],
   "source": [
    "t2.mean()"
   ]
  },
  {
   "cell_type": "code",
   "execution_count": 428,
   "metadata": {
    "ExecuteTime": {
     "end_time": "2022-03-17T13:45:15.407961Z",
     "start_time": "2022-03-17T13:45:15.119956Z"
    }
   },
   "outputs": [
    {
     "data": {
      "text/plain": [
       "(array([3.28029e+05, 8.32720e+04, 1.64830e+04, 6.09000e+03, 3.03100e+03,\n",
       "        1.83900e+03, 1.23400e+03, 8.37000e+02, 6.31000e+02, 4.97000e+02,\n",
       "        4.17000e+02, 3.45000e+02, 2.94000e+02, 2.71000e+02, 2.36000e+02,\n",
       "        1.90000e+02, 1.63000e+02, 1.69000e+02, 1.41000e+02, 1.29000e+02,\n",
       "        1.25000e+02, 1.04000e+02, 1.01000e+02, 9.10000e+01, 7.90000e+01,\n",
       "        7.70000e+01, 7.70000e+01, 9.10000e+01, 5.80000e+01, 1.33000e+02]),\n",
       " array([ 0.,  1.,  2.,  3.,  4.,  5.,  6.,  7.,  8.,  9., 10., 11., 12.,\n",
       "        13., 14., 15., 16., 17., 18., 19., 20., 21., 22., 23., 24., 25.,\n",
       "        26., 27., 28., 29., 30.]),\n",
       " <BarContainer object of 30 artists>)"
      ]
     },
     "execution_count": 428,
     "metadata": {},
     "output_type": "execute_result"
    },
    {
     "data": {
      "image/png": "[encoded data removed]",
      "text/plain": [
       "<Figure size 864x504 with 1 Axes>"
      ]
     },
     "metadata": {
      "needs_background": "light"
     },
     "output_type": "display_data"
    }
   ],
   "source": [
    "fig, ax = plt.subplots(figsize = (12, 7))\n",
    "ax.hist(t2, bins = 30, # bins - целое число, оно определяет количество интервалов одинаковой ширины в диапазоне\n",
    "        zorder = 3, range = (0, 30), # Нижние и верхние выбросы игнорируются? если не указан, диапазон равен (x.min (), x.max ())\n",
    "        density = False,  # density = True - нормировка по оси y прощади на 1\n",
    "        alpha = 0.9,\n",
    "        bottom = 0.2, # смещение на 0.2 вверх\n",
    "        rwidth = 1, # толщина столбца rwidth\n",
    "        color = 'red', # цвет столбца\n",
    "        edgecolor = 'black', # цвет края\n",
    "        hatch = '//') # hatch - штриховка"
   ]
  },
  {
   "cell_type": "markdown",
   "metadata": {},
   "source": [
    "**1.3**"
   ]
  },
  {
   "cell_type": "markdown",
   "metadata": {},
   "source": [
    "Для первой гипотезы ожидается увеличение среднего числа транзакций на человека, размер эффекта будет зависеть от того насколько хорошо будет сделано информирование\n",
    "Ожидаемое изменение: если в течении месяца каждый 10 человек сделает на 1 транзакцию больше, то относительный эфaект будет 4%\n",
    "\n",
    "Для второй гипотезы ожидается увеличение среднего числа транзакций типа advanced на человека, размер эффекта опять же зависит от механики эксперимента, т.е от того насколько сильно будет повышена базовая цена и соотношения полезности базового и продвинутого продуктов\n",
    "Ожидаемое изменение: Если каждый 20 потребительй только базового продукта совершит хотябы одну транзакцию, то эффект составит 5%"
   ]
  },
  {
   "cell_type": "markdown",
   "metadata": {},
   "source": [
    "**1.4**"
   ]
  },
  {
   "cell_type": "markdown",
   "metadata": {},
   "source": [
    "mde гипотеза 1"
   ]
  },
  {
   "cell_type": "code",
   "execution_count": 430,
   "metadata": {
    "ExecuteTime": {
     "end_time": "2022-03-17T13:45:27.796336Z",
     "start_time": "2022-03-17T13:45:27.783336Z"
    }
   },
   "outputs": [],
   "source": [
    "def choose_date(data, start_date, delta, share): \n",
    "    tmp = data[(data.event_date>=start_date)&(data.event_date<=start_date+datetime.timedelta(days=delta))]\n",
    " #   tmp=tmp.groupby(['user_id']).sum().reset_index()\n",
    "    tmp = tmp.groupby('user_id').sum().reset_index()\n",
    "    x = tmp[(tmp.user_id)%int(1/share)==0].reset_index()\n",
    "    return x"
   ]
  },
  {
   "cell_type": "code",
   "execution_count": 431,
   "metadata": {
    "ExecuteTime": {
     "end_time": "2022-03-17T13:45:28.835340Z",
     "start_time": "2022-03-17T13:45:28.263340Z"
    }
   },
   "outputs": [
    {
     "name": "stdout",
     "output_type": "stream",
     "text": [
      "1.024826832751077\n"
     ]
    }
   ],
   "source": [
    "x1 =choose_date(df, datetime.datetime(2020, 9, 29, 0, 0),82,0.5) #получаем необходимую подвыборку\n",
    "\n",
    "from statsmodels.stats.power import tt_ind_solve_power\n",
    " \n",
    "mean = x1.transactions.mean()\n",
    "std = x1.transactions.std()\n",
    " \n",
    "alpha = 0.02\n",
    "power = 0.8\n",
    "result_effect = 0.045 # целевой размер относительного отклоенения исходной метрики\n",
    "effect_size = (mean /std) * result_effect\n",
    " \n",
    "    \n",
    "sample_vol = tt_ind_solve_power(effect_size=effect_size, alpha=alpha, power=power, nobs1=None, ratio=1, alternative = 'two-sided')    \n",
    "print(sample_vol/x1.shape[0])# получаем множитель того, во сколько раз необходимо изменить размер выборки"
   ]
  },
  {
   "cell_type": "markdown",
   "metadata": {},
   "source": [
    "mde гипотеза 2"
   ]
  },
  {
   "cell_type": "code",
   "execution_count": 432,
   "metadata": {
    "ExecuteTime": {
     "end_time": "2022-03-17T13:45:29.744568Z",
     "start_time": "2022-03-17T13:45:29.726570Z"
    }
   },
   "outputs": [],
   "source": [
    "def choose_date2(data, start_date, delta, share): \n",
    "    tmp = data[(data.event_date>=start_date)&(data.event_date<=start_date+datetime.timedelta(days=delta))]\n",
    "    \n",
    " #   tmp=tmp.groupby(['user_id']).sum().reset_index()\n",
    "    df_adv = tmp[tmp['product'] == 'advanced']\n",
    "    k = tmp[tmp['product'] == 'basic']\n",
    "    k['transactions'] = 0\n",
    "    tmp = pd.concat([df_adv, k])\n",
    "    \n",
    "    tmp = tmp.groupby('user_id').sum().reset_index()\n",
    "    x = tmp[(tmp.user_id)%int(1/share)==0].reset_index()\n",
    "    return x"
   ]
  },
  {
   "cell_type": "code",
   "execution_count": 436,
   "metadata": {
    "ExecuteTime": {
     "end_time": "2022-03-17T13:45:53.068694Z",
     "start_time": "2022-03-17T13:45:52.927695Z"
    }
   },
   "outputs": [
    {
     "name": "stdout",
     "output_type": "stream",
     "text": [
      "0.8505006433523702\n"
     ]
    },
    {
     "name": "stderr",
     "output_type": "stream",
     "text": [
      "C:\\Users\\rimbb\\AppData\\Local\\Temp/ipykernel_6896/306584304.py:7: SettingWithCopyWarning: \n",
      "A value is trying to be set on a copy of a slice from a DataFrame.\n",
      "Try using .loc[row_indexer,col_indexer] = value instead\n",
      "\n",
      "See the caveats in the documentation: https://pandas.pydata.org/pandas-docs/stable/user_guide/indexing.html#returning-a-view-versus-a-copy\n",
      "  k['transactions'] = 0\n"
     ]
    }
   ],
   "source": [
    "x2 =choose_date2(df, datetime.datetime(2020, 9, 29, 0, 0),9,0.1) #получаем необходимую подвыборку\n",
    "\n",
    "from statsmodels.stats.power import tt_ind_solve_power\n",
    " \n",
    "mean = x2.transactions.mean()\n",
    "std = x2.transactions.std()\n",
    " \n",
    "alpha = 0.02\n",
    "power = 0.8\n",
    "result_effect = 0.05 # целевой размер относительного отклоенения исходной метрики\n",
    "effect_size = (mean /std) * result_effect\n",
    "     \n",
    "sample_vol = tt_ind_solve_power(effect_size=effect_size, alpha=alpha, power=power, nobs1=None, ratio=1, alternative = 'two-sided')    \n",
    "print(sample_vol/x1.shape[0])# получаем множитель того, во сколько раз необходимо изменить размер выборки"
   ]
  },
  {
   "cell_type": "code",
   "execution_count": null,
   "metadata": {},
   "outputs": [],
   "source": []
  }
 ],
 "metadata": {
  "kernelspec": {
   "display_name": "Python 3 (ipykernel)",
   "language": "python",
   "name": "python3"
  },
  "language_info": {
   "codemirror_mode": {
    "name": "ipython",
    "version": 3
   },
   "file_extension": ".py",
   "mimetype": "text/x-python",
   "name": "python",
   "nbconvert_exporter": "python",
   "pygments_lexer": "ipython3",
   "version": "3.8.12"
  },
  "toc": {
   "base_numbering": 1,
   "nav_menu": {},
   "number_sections": true,
   "sideBar": true,
   "skip_h1_title": false,
   "title_cell": "Table of Contents",
   "title_sidebar": "Contents",
   "toc_cell": false,
   "toc_position": {
    "height": "calc(100% - 180px)",
    "left": "10px",
    "top": "150px",
    "width": "165px"
   },
   "toc_section_display": true,
   "toc_window_display": false
  },
  "varInspector": {
   "cols": {
    "lenName": 16,
    "lenType": 16,
    "lenVar": 40
   },
   "kernels_config": {
    "python": {
     "delete_cmd_postfix": "",
     "delete_cmd_prefix": "del ",
     "library": "var_list.py",
     "varRefreshCmd": "print(var_dic_list())"
    },
    "r": {
     "delete_cmd_postfix": ") ",
     "delete_cmd_prefix": "rm(",
     "library": "var_list.r",
     "varRefreshCmd": "cat(var_dic_list()) "
    }
   },
   "types_to_exclude": [
    "module",
    "function",
    "builtin_function_or_method",
    "instance",
    "_Feature"
   ],
   "window_display": false
  }
 },
 "nbformat": 4,
 "nbformat_minor": 4
}
