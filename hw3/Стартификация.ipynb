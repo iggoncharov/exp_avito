{
 "cells": [
  {
   "cell_type": "code",
   "execution_count": 125,
   "id": "a71fc852",
   "metadata": {
    "ExecuteTime": {
     "end_time": "2022-04-18T00:49:52.619098Z",
     "start_time": "2022-04-18T00:49:52.613103Z"
    }
   },
   "outputs": [],
   "source": [
    "import pandas as pd\n",
    "import matplotlib.pyplot as plt\n",
    "import numpy as np\n",
    "import seaborn as sns\n",
    "import datetime\n",
    "import random\n",
    "from statsmodels.stats.power import tt_ind_solve_power\n",
    "\n",
    "def date_converter(x):\n",
    "    return datetime.datetime.strptime(x,'%Y-%m-%d')"
   ]
  },
  {
   "cell_type": "code",
   "execution_count": 126,
   "id": "c175c852",
   "metadata": {
    "ExecuteTime": {
     "end_time": "2022-04-18T00:52:38.949277Z",
     "start_time": "2022-04-18T00:49:53.203224Z"
    }
   },
   "outputs": [],
   "source": [
    "df = pd.read_csv('user_amount_var_reduction.csv')\n",
    "df['event_date']=df.event_date.apply(date_converter)"
   ]
  },
  {
   "cell_type": "markdown",
   "id": "326ea9ab",
   "metadata": {},
   "source": [
    "## answer"
   ]
  },
  {
   "cell_type": "code",
   "execution_count": 127,
   "id": "44e90b70",
   "metadata": {
    "ExecuteTime": {
     "end_time": "2022-04-18T00:52:58.646417Z",
     "start_time": "2022-04-18T00:52:58.626414Z"
    }
   },
   "outputs": [
    {
     "data": {
      "text/html": [
       "<div>\n",
       "<style scoped>\n",
       "    .dataframe tbody tr th:only-of-type {\n",
       "        vertical-align: middle;\n",
       "    }\n",
       "\n",
       "    .dataframe tbody tr th {\n",
       "        vertical-align: top;\n",
       "    }\n",
       "\n",
       "    .dataframe thead th {\n",
       "        text-align: right;\n",
       "    }\n",
       "</style>\n",
       "<table border=\"1\" class=\"dataframe\">\n",
       "  <thead>\n",
       "    <tr style=\"text-align: right;\">\n",
       "      <th></th>\n",
       "      <th>event_date</th>\n",
       "      <th>user_id</th>\n",
       "      <th>user_segment</th>\n",
       "      <th>category</th>\n",
       "      <th>region</th>\n",
       "      <th>revenue_amount</th>\n",
       "    </tr>\n",
       "  </thead>\n",
       "  <tbody>\n",
       "    <tr>\n",
       "      <th>0</th>\n",
       "      <td>2019-06-18</td>\n",
       "      <td>4129257975403696</td>\n",
       "      <td>4626944681007198896</td>\n",
       "      <td>7204754148424990691</td>\n",
       "      <td>2201388710798473628</td>\n",
       "      <td>139</td>\n",
       "    </tr>\n",
       "    <tr>\n",
       "      <th>1</th>\n",
       "      <td>2019-06-18</td>\n",
       "      <td>7225254357470025</td>\n",
       "      <td>4626944681007198896</td>\n",
       "      <td>57514010642945023</td>\n",
       "      <td>3048517866726460689</td>\n",
       "      <td>193</td>\n",
       "    </tr>\n",
       "    <tr>\n",
       "      <th>2</th>\n",
       "      <td>2019-06-18</td>\n",
       "      <td>8912846500600569</td>\n",
       "      <td>4626944681007198896</td>\n",
       "      <td>5983323600580891431</td>\n",
       "      <td>3048517866726460689</td>\n",
       "      <td>160</td>\n",
       "    </tr>\n",
       "    <tr>\n",
       "      <th>3</th>\n",
       "      <td>2019-06-18</td>\n",
       "      <td>20910801279823046</td>\n",
       "      <td>4626944681007198896</td>\n",
       "      <td>6847326422676498281</td>\n",
       "      <td>7762196236856042106</td>\n",
       "      <td>209</td>\n",
       "    </tr>\n",
       "    <tr>\n",
       "      <th>4</th>\n",
       "      <td>2019-06-18</td>\n",
       "      <td>34873300821657220</td>\n",
       "      <td>2376074197230840906</td>\n",
       "      <td>3187769798308634693</td>\n",
       "      <td>3855810523611026650</td>\n",
       "      <td>160</td>\n",
       "    </tr>\n",
       "    <tr>\n",
       "      <th>...</th>\n",
       "      <td>...</td>\n",
       "      <td>...</td>\n",
       "      <td>...</td>\n",
       "      <td>...</td>\n",
       "      <td>...</td>\n",
       "      <td>...</td>\n",
       "    </tr>\n",
       "    <tr>\n",
       "      <th>8625837</th>\n",
       "      <td>2019-12-08</td>\n",
       "      <td>9170823997728769058</td>\n",
       "      <td>2376074197230840906</td>\n",
       "      <td>4658595883120885993</td>\n",
       "      <td>3855810523611026650</td>\n",
       "      <td>133</td>\n",
       "    </tr>\n",
       "    <tr>\n",
       "      <th>8625838</th>\n",
       "      <td>2019-12-08</td>\n",
       "      <td>9178869387857307556</td>\n",
       "      <td>4626944681007198896</td>\n",
       "      <td>1472231361867825698</td>\n",
       "      <td>3048517866726460689</td>\n",
       "      <td>63</td>\n",
       "    </tr>\n",
       "    <tr>\n",
       "      <th>8625839</th>\n",
       "      <td>2019-12-08</td>\n",
       "      <td>9186690404771258365</td>\n",
       "      <td>2376074197230840906</td>\n",
       "      <td>4546178272531746227</td>\n",
       "      <td>8867014108346120905</td>\n",
       "      <td>168</td>\n",
       "    </tr>\n",
       "    <tr>\n",
       "      <th>8625840</th>\n",
       "      <td>2019-12-08</td>\n",
       "      <td>9195678548159495844</td>\n",
       "      <td>2376074197230840906</td>\n",
       "      <td>5983323600580891431</td>\n",
       "      <td>1187552825302355021</td>\n",
       "      <td>118</td>\n",
       "    </tr>\n",
       "    <tr>\n",
       "      <th>8625841</th>\n",
       "      <td>2019-12-08</td>\n",
       "      <td>9203791365722213789</td>\n",
       "      <td>4626944681007198896</td>\n",
       "      <td>6864443610550051939</td>\n",
       "      <td>3048517866726460689</td>\n",
       "      <td>39</td>\n",
       "    </tr>\n",
       "  </tbody>\n",
       "</table>\n",
       "<p>8625842 rows × 6 columns</p>\n",
       "</div>"
      ],
      "text/plain": [
       "        event_date              user_id         user_segment  \\\n",
       "0       2019-06-18     4129257975403696  4626944681007198896   \n",
       "1       2019-06-18     7225254357470025  4626944681007198896   \n",
       "2       2019-06-18     8912846500600569  4626944681007198896   \n",
       "3       2019-06-18    20910801279823046  4626944681007198896   \n",
       "4       2019-06-18    34873300821657220  2376074197230840906   \n",
       "...            ...                  ...                  ...   \n",
       "8625837 2019-12-08  9170823997728769058  2376074197230840906   \n",
       "8625838 2019-12-08  9178869387857307556  4626944681007198896   \n",
       "8625839 2019-12-08  9186690404771258365  2376074197230840906   \n",
       "8625840 2019-12-08  9195678548159495844  2376074197230840906   \n",
       "8625841 2019-12-08  9203791365722213789  4626944681007198896   \n",
       "\n",
       "                    category               region  revenue_amount  \n",
       "0        7204754148424990691  2201388710798473628             139  \n",
       "1          57514010642945023  3048517866726460689             193  \n",
       "2        5983323600580891431  3048517866726460689             160  \n",
       "3        6847326422676498281  7762196236856042106             209  \n",
       "4        3187769798308634693  3855810523611026650             160  \n",
       "...                      ...                  ...             ...  \n",
       "8625837  4658595883120885993  3855810523611026650             133  \n",
       "8625838  1472231361867825698  3048517866726460689              63  \n",
       "8625839  4546178272531746227  8867014108346120905             168  \n",
       "8625840  5983323600580891431  1187552825302355021             118  \n",
       "8625841  6864443610550051939  3048517866726460689              39  \n",
       "\n",
       "[8625842 rows x 6 columns]"
      ]
     },
     "execution_count": 127,
     "metadata": {},
     "output_type": "execute_result"
    }
   ],
   "source": [
    "#изначальный\n",
    "df"
   ]
  },
  {
   "cell_type": "code",
   "execution_count": 128,
   "id": "77079a8a",
   "metadata": {
    "ExecuteTime": {
     "end_time": "2022-04-18T00:52:59.671427Z",
     "start_time": "2022-04-18T00:52:59.664432Z"
    }
   },
   "outputs": [],
   "source": [
    "dataset = df.head(100000)"
   ]
  },
  {
   "cell_type": "code",
   "execution_count": 165,
   "id": "2922c554",
   "metadata": {
    "ExecuteTime": {
     "end_time": "2022-04-18T01:31:09.640357Z",
     "start_time": "2022-04-18T01:31:09.609358Z"
    }
   },
   "outputs": [],
   "source": [
    "def choose(data, priznak, start_date, delta, share, share_bool):\n",
    "    \"\"\"\n",
    "    в функцию подается датафрейм\n",
    "    она фильтрует по датам\n",
    "    группирует пользователей по user_id, в местах где одному пользовтаелю соответствует несколько групп \n",
    "    выбирается самая популярная группа, при равенстве выбирается группа у которой средняя цена покупки выше\n",
    "    \"\"\"\n",
    "    data = data[['event_date', 'user_id', priznak, 'revenue_amount']]\n",
    "    #берём нужные даты\n",
    "    df_strata = data[(data.event_date>=start_date)&(data.event_date<=start_date+datetime.timedelta(days=delta))]\n",
    "\n",
    "    #part1\n",
    "    #отрезаем тез пользователей у которых только одна страта\n",
    "\n",
    "    #список где одна категория на одного юзера -> делаем inner join c таблицей osn\n",
    "    dub0 = (df_strata.groupby(['user_id', priznak]).count().reset_index().groupby(['user_id']).count()\n",
    "     .revenue_amount == 1).reset_index()[(df_strata.groupby(['user_id', priznak]).count().reset_index().groupby(['user_id']).count().revenue_amount == 1).reset_index().revenue_amount == True][['user_id']]\n",
    "\n",
    "    dd_part1 = df_strata.merge(dub0, left_on = 'user_id', right_on = 'user_id', how = 'inner')\n",
    "\n",
    "    osn = df_strata.groupby(['user_id']).sum().reset_index()[['user_id', 'revenue_amount']]\n",
    "\n",
    "    dub0_rev_part1 = dub0.merge(osn, left_on = 'user_id', right_on = 'user_id', how = 'inner')\n",
    "\n",
    "    part1 = dd_part1.merge(dub0_rev_part1, left_on = 'user_id', right_on = 'user_id', how = 'inner')[['user_id', priznak, 'revenue_amount_y']]\n",
    "    part1.rename(columns = {'revenue_amount_y': 'revenue_amount'}, inplace = True)\n",
    "\n",
    "    part1 = part1.drop_duplicates()\n",
    "    \n",
    "    \n",
    "    #part2\n",
    "    #отрезаем тех пользователей у которых больше одной страты\n",
    "    \n",
    "    peop = df_strata.groupby(['user_id', priznak]).count()\n",
    "    peop.reset_index(inplace = True)\n",
    "\n",
    "    dub = (df_strata.groupby(['user_id', priznak]).count().reset_index().groupby(['user_id']).count()\n",
    "     .revenue_amount != 1).reset_index()[(df_strata.groupby(['user_id', priznak]).count().reset_index().groupby(['user_id']).count().revenue_amount != 1).reset_index().revenue_amount == True]\n",
    "\n",
    "    part2_rev = dub.merge(df_strata, left_on = 'user_id', right_on = 'user_id', how= 'inner').groupby('user_id')[['revenue_amount_y']].sum().reset_index()\n",
    "    part2_rev.rename(columns = {'revenue_amount_y': 'revenue_amount'}, inplace = True)\n",
    "\n",
    "    ob = peop.merge(dub, left_on = 'user_id', right_on = 'user_id')\n",
    "\n",
    "    max_group = ob.groupby(['user_id']).event_date.max().reset_index()\n",
    "\n",
    "    new = ob.merge(max_group, left_on = 'user_id', right_on = 'user_id', how = 'inner')\n",
    "    new = new[['user_id', priznak, 'event_date_x', 'event_date_y']]\n",
    "    new.rename(columns = {'event_date_x': 'count', 'event_date_y': 'count_max'}, inplace = True)\n",
    "\n",
    "    new = new[new['count'] == new['count_max']] # убираем те что меньше макс\n",
    "\n",
    "    #отсортированное соответствие между index и priznak по средней revenue_amount\n",
    "    segment_mean = df_strata.groupby(priznak).revenue_amount.mean().sort_values(ascending = True).reset_index().reset_index()\n",
    "\n",
    "    index_user = new.merge(segment_mean, left_on = priznak, right_on = priznak). \\\n",
    "    groupby('user_id').index.max().reset_index()\n",
    "\n",
    "    part2 = part2_rev.merge(index_user, left_on = 'user_id', right_on = 'user_id', how = 'inner'). \\\n",
    "    merge(segment_mean[['index', priznak]], left_on = 'index', right_on = 'index', how = 'inner')[['user_id',priznak, 'revenue_amount']]\n",
    "    \n",
    "    # объедниняем и перемешиваем \n",
    "    part_12 = pd.concat([part1, part2])\n",
    "    part_12 = part_12.sample(part_12.shape[0], random_state = 7575)\n",
    "    \n",
    "    #Нам нужно разбиение, которое сохраняем пропорции страт в контрольной и тестовой группах\n",
    "    part_12['group'] = part_12.groupby(priznak).cumcount()\n",
    "    part_12 = part_12.merge(part_12.groupby(priznak).group.max().reset_index(), left_on = priznak, right_on = priznak, how = 'inner')\n",
    "    \n",
    "    if share_bool:\n",
    "        part_12 = part_12[round(part_12['group_y']*share) >= part_12['group_x']]\n",
    "    \n",
    "    return part_12"
   ]
  },
  {
   "cell_type": "code",
   "execution_count": 163,
   "id": "c03c7774",
   "metadata": {
    "ExecuteTime": {
     "end_time": "2022-04-18T01:30:41.766364Z",
     "start_time": "2022-04-18T01:30:34.113849Z"
    }
   },
   "outputs": [],
   "source": [
    "data = choose(data = df, priznak = 'region',start_date = datetime.datetime(2019, 8, 1, 0, 0), delta = 30, share = 0.1, share_bool = True)"
   ]
  },
  {
   "cell_type": "code",
   "execution_count": 164,
   "id": "743332cb",
   "metadata": {
    "ExecuteTime": {
     "end_time": "2022-04-18T01:31:03.108281Z",
     "start_time": "2022-04-18T01:31:03.089274Z"
    }
   },
   "outputs": [
    {
     "data": {
      "text/html": [
       "<div>\n",
       "<style scoped>\n",
       "    .dataframe tbody tr th:only-of-type {\n",
       "        vertical-align: middle;\n",
       "    }\n",
       "\n",
       "    .dataframe tbody tr th {\n",
       "        vertical-align: top;\n",
       "    }\n",
       "\n",
       "    .dataframe thead th {\n",
       "        text-align: right;\n",
       "    }\n",
       "</style>\n",
       "<table border=\"1\" class=\"dataframe\">\n",
       "  <thead>\n",
       "    <tr style=\"text-align: right;\">\n",
       "      <th></th>\n",
       "      <th>user_id</th>\n",
       "      <th>region</th>\n",
       "      <th>revenue_amount</th>\n",
       "      <th>group_x</th>\n",
       "      <th>group_y</th>\n",
       "    </tr>\n",
       "  </thead>\n",
       "  <tbody>\n",
       "    <tr>\n",
       "      <th>0</th>\n",
       "      <td>6427656744383745604</td>\n",
       "      <td>8867014108346120905</td>\n",
       "      <td>615.0</td>\n",
       "      <td>0</td>\n",
       "      <td>18637</td>\n",
       "    </tr>\n",
       "    <tr>\n",
       "      <th>1</th>\n",
       "      <td>5253112167057242451</td>\n",
       "      <td>8867014108346120905</td>\n",
       "      <td>258.0</td>\n",
       "      <td>1</td>\n",
       "      <td>18637</td>\n",
       "    </tr>\n",
       "    <tr>\n",
       "      <th>2</th>\n",
       "      <td>4064231596859176816</td>\n",
       "      <td>8867014108346120905</td>\n",
       "      <td>69.0</td>\n",
       "      <td>2</td>\n",
       "      <td>18637</td>\n",
       "    </tr>\n",
       "    <tr>\n",
       "      <th>3</th>\n",
       "      <td>4748994501792486977</td>\n",
       "      <td>8867014108346120905</td>\n",
       "      <td>342.0</td>\n",
       "      <td>3</td>\n",
       "      <td>18637</td>\n",
       "    </tr>\n",
       "    <tr>\n",
       "      <th>4</th>\n",
       "      <td>350020614556563818</td>\n",
       "      <td>8867014108346120905</td>\n",
       "      <td>782.0</td>\n",
       "      <td>4</td>\n",
       "      <td>18637</td>\n",
       "    </tr>\n",
       "    <tr>\n",
       "      <th>...</th>\n",
       "      <td>...</td>\n",
       "      <td>...</td>\n",
       "      <td>...</td>\n",
       "      <td>...</td>\n",
       "      <td>...</td>\n",
       "    </tr>\n",
       "    <tr>\n",
       "      <th>599889</th>\n",
       "      <td>6228997776374976707</td>\n",
       "      <td>8666105090637809898</td>\n",
       "      <td>832.0</td>\n",
       "      <td>3</td>\n",
       "      <td>50</td>\n",
       "    </tr>\n",
       "    <tr>\n",
       "      <th>599890</th>\n",
       "      <td>6901591664329069611</td>\n",
       "      <td>8666105090637809898</td>\n",
       "      <td>21.0</td>\n",
       "      <td>4</td>\n",
       "      <td>50</td>\n",
       "    </tr>\n",
       "    <tr>\n",
       "      <th>599891</th>\n",
       "      <td>66830500203754048</td>\n",
       "      <td>8666105090637809898</td>\n",
       "      <td>64.0</td>\n",
       "      <td>5</td>\n",
       "      <td>50</td>\n",
       "    </tr>\n",
       "    <tr>\n",
       "      <th>599937</th>\n",
       "      <td>8566507811977528407</td>\n",
       "      <td>928013360687874809</td>\n",
       "      <td>109.0</td>\n",
       "      <td>0</td>\n",
       "      <td>14</td>\n",
       "    </tr>\n",
       "    <tr>\n",
       "      <th>599938</th>\n",
       "      <td>3747456123053351001</td>\n",
       "      <td>928013360687874809</td>\n",
       "      <td>98.0</td>\n",
       "      <td>1</td>\n",
       "      <td>14</td>\n",
       "    </tr>\n",
       "  </tbody>\n",
       "</table>\n",
       "<p>60069 rows × 5 columns</p>\n",
       "</div>"
      ],
      "text/plain": [
       "                    user_id               region  revenue_amount  group_x  \\\n",
       "0       6427656744383745604  8867014108346120905           615.0        0   \n",
       "1       5253112167057242451  8867014108346120905           258.0        1   \n",
       "2       4064231596859176816  8867014108346120905            69.0        2   \n",
       "3       4748994501792486977  8867014108346120905           342.0        3   \n",
       "4        350020614556563818  8867014108346120905           782.0        4   \n",
       "...                     ...                  ...             ...      ...   \n",
       "599889  6228997776374976707  8666105090637809898           832.0        3   \n",
       "599890  6901591664329069611  8666105090637809898            21.0        4   \n",
       "599891    66830500203754048  8666105090637809898            64.0        5   \n",
       "599937  8566507811977528407   928013360687874809           109.0        0   \n",
       "599938  3747456123053351001   928013360687874809            98.0        1   \n",
       "\n",
       "        group_y  \n",
       "0         18637  \n",
       "1         18637  \n",
       "2         18637  \n",
       "3         18637  \n",
       "4         18637  \n",
       "...         ...  \n",
       "599889       50  \n",
       "599890       50  \n",
       "599891       50  \n",
       "599937       14  \n",
       "599938       14  \n",
       "\n",
       "[60069 rows x 5 columns]"
      ]
     },
     "execution_count": 164,
     "metadata": {},
     "output_type": "execute_result"
    }
   ],
   "source": [
    "data"
   ]
  },
  {
   "cell_type": "code",
   "execution_count": 130,
   "id": "1998a2f4",
   "metadata": {
    "ExecuteTime": {
     "end_time": "2022-04-18T00:53:05.730790Z",
     "start_time": "2022-04-18T00:53:05.712799Z"
    }
   },
   "outputs": [],
   "source": [
    "def std_strat(data, priznak):\n",
    "    strata_p = data.groupby([priznak]).count()/data.count()[0]\n",
    "    data_test=data.join(strata_p, on=priznak, rsuffix='_probality')\n",
    "    \n",
    "    std = float(((data_test.groupby([priznak]).var().revenue_amount*data_test.groupby([priznak]).mean().revenue_amount_probality).sum()) ** 0.5)\n",
    "    return std"
   ]
  },
  {
   "cell_type": "code",
   "execution_count": null,
   "id": "6fe2ec0b",
   "metadata": {},
   "outputs": [],
   "source": []
  },
  {
   "cell_type": "code",
   "execution_count": 131,
   "id": "6530de65",
   "metadata": {
    "ExecuteTime": {
     "end_time": "2022-04-18T00:53:07.296217Z",
     "start_time": "2022-04-18T00:53:07.280214Z"
    }
   },
   "outputs": [],
   "source": [
    "from statsmodels.stats.power import tt_ind_solve_power"
   ]
  },
  {
   "cell_type": "code",
   "execution_count": 167,
   "id": "b7bf70d8",
   "metadata": {
    "ExecuteTime": {
     "end_time": "2022-04-18T01:34:55.895970Z",
     "start_time": "2022-04-18T01:34:33.736068Z"
    }
   },
   "outputs": [
    {
     "name": "stdout",
     "output_type": "stream",
     "text": [
      "---------------------------\n",
      "Strata: user_segment\n",
      "Usually: 1.5133413842040477\n",
      "Strat: 1.3969360072163266\n",
      "---------------------------\n",
      "Strata: category\n",
      "Usually: 1.534230074916239\n",
      "Strat: 1.5196654547174167\n",
      "---------------------------\n",
      "Strata: region\n",
      "Usually: 1.2553140850917903\n",
      "Strat: 1.2499143201277616\n"
     ]
    }
   ],
   "source": [
    "priznaki = ['user_segment', 'category', 'region']\n",
    "for priz in priznaki:\n",
    "    print('---------------------------')\n",
    "    print('Strata:',  priz)\n",
    "    data = choose(data = df, priznak = priz, start_date = datetime.datetime(2019, 8, 1, 0, 0), \n",
    "                  delta = 30, share = 0.5, share_bool = True) #получаем необходимую подвыборку\n",
    "\n",
    "    mean = data.revenue_amount.mean()\n",
    "    std = data.revenue_amount.std()\n",
    "\n",
    "    strata_p = data.groupby([priz]).count()/data.count()[0]\n",
    "    data_test=data.join(strata_p, on=priz, rsuffix='_probality')\n",
    "\n",
    "    std_strat = ((data_test.groupby([priz]).var().revenue_amount*data_test.groupby([priz]).mean().revenue_amount_probality).sum()) ** 0.5\n",
    "    mean_strat =(data_test.groupby([priz]).mean().revenue_amount*data_test.groupby([priz]).mean().revenue_amount_probality).sum()\n",
    "    \n",
    "    alpha = 0.01\n",
    "    power = 0.8\n",
    "    result_effect = 0.05\n",
    "\n",
    "    effect_size = (mean /std) * result_effect\n",
    "    effect_size_strat = (mean_strat /std_strat) * result_effect\n",
    "    \n",
    "    sample_vol = tt_ind_solve_power(effect_size=effect_size, alpha=alpha, power=power, nobs1=None, ratio=1, alternative = 'two-sided')\n",
    "    sample_vol_strat = tt_ind_solve_power(effect_size=effect_size_strat, alpha=alpha, power=power, nobs1=None, ratio=1, alternative = 'two-sided')\n",
    "\n",
    "    print('Usually:', sample_vol/data.shape[0])\n",
    "    print('Strat:', sample_vol_strat/data.shape[0])\n",
    "\n"
   ]
  },
  {
   "cell_type": "markdown",
   "id": "85846b4e",
   "metadata": {},
   "source": [
    "Существенных снижений не было зафиксировано, но лучше всех себя показало разбиение по user_segment(дало максимальное уменьшение относительно обычного случая с простым подсчетом дисперсии)"
   ]
  },
  {
   "cell_type": "code",
   "execution_count": null,
   "id": "08ce7244",
   "metadata": {},
   "outputs": [],
   "source": []
  }
 ],
 "metadata": {
  "kernelspec": {
   "display_name": "Python 3 (ipykernel)",
   "language": "python",
   "name": "python3"
  },
  "language_info": {
   "codemirror_mode": {
    "name": "ipython",
    "version": 3
   },
   "file_extension": ".py",
   "mimetype": "text/x-python",
   "name": "python",
   "nbconvert_exporter": "python",
   "pygments_lexer": "ipython3",
   "version": "3.8.12"
  },
  "toc": {
   "base_numbering": 1,
   "nav_menu": {},
   "number_sections": true,
   "sideBar": true,
   "skip_h1_title": false,
   "title_cell": "Table of Contents",
   "title_sidebar": "Contents",
   "toc_cell": false,
   "toc_position": {},
   "toc_section_display": true,
   "toc_window_display": false
  },
  "varInspector": {
   "cols": {
    "lenName": 16,
    "lenType": 16,
    "lenVar": 40
   },
   "kernels_config": {
    "python": {
     "delete_cmd_postfix": "",
     "delete_cmd_prefix": "del ",
     "library": "var_list.py",
     "varRefreshCmd": "print(var_dic_list())"
    },
    "r": {
     "delete_cmd_postfix": ") ",
     "delete_cmd_prefix": "rm(",
     "library": "var_list.r",
     "varRefreshCmd": "cat(var_dic_list()) "
    }
   },
   "types_to_exclude": [
    "module",
    "function",
    "builtin_function_or_method",
    "instance",
    "_Feature"
   ],
   "window_display": false
  }
 },
 "nbformat": 4,
 "nbformat_minor": 5
}
